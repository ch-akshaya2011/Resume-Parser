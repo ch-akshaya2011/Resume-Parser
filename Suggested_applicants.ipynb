{
  "nbformat": 4,
  "nbformat_minor": 0,
  "metadata": {
    "colab": {
      "provenance": []
    },
    "kernelspec": {
      "name": "python3",
      "display_name": "Python 3"
    },
    "language_info": {
      "name": "python"
    }
  },
  "cells": [
    {
      "cell_type": "code",
      "execution_count": 4,
      "metadata": {
        "colab": {
          "base_uri": "https://localhost:8080/"
        },
        "id": "Hj_aqZBtIr_s",
        "outputId": "c4f0af13-e3aa-4021-89f0-84172485cac8"
      },
      "outputs": [
        {
          "output_type": "stream",
          "name": "stdout",
          "text": [
            "Suggested Applicants:\n",
            "Alice\n"
          ]
        }
      ],
      "source": [
        "class Applicant:\n",
        "    def __init__(self, name, qualifications):\n",
        "        self.name = name\n",
        "        self.qualifications = qualifications\n",
        "\n",
        "class JobRequirements:\n",
        "    def __init__(self, requirements):\n",
        "        self.requirements = requirements\n",
        "\n",
        "def calculate_score(applicant, job_requirements):\n",
        "    score = 0\n",
        "    for req in job_requirements:\n",
        "        if req in applicant.qualifications:\n",
        "            score += 1\n",
        "    return score\n",
        "\n",
        "def generate_suggested_applicants(applicants, job_requirements, threshold):\n",
        "    suggested_applicants = []\n",
        "    for applicant in applicants:\n",
        "        score = calculate_score(applicant, job_requirements)\n",
        "        if score >= threshold:\n",
        "            suggested_applicants.append(applicant.name)\n",
        "    return suggested_applicants\n",
        "\n",
        "applicants = [\n",
        "    Applicant(\"Alice\", [\"Python\", \"Machine Learning\", \"Data Analysis\"]),\n",
        "    Applicant(\"Bob\", [\"Java\", \"Data Analysis\", \"Statistics\"]),\n",
        "    Applicant(\"Charlie\", [\"Python\", \"Data Visualization\", \"SQL\"]),\n",
        "    Applicant(\"David\", [\"Python\", \"R\", \"Statistics\"])\n",
        "]\n",
        "\n",
        "job_requirements = [\"Python\", \"Data Analysis\", \"Machine Learning\"]\n",
        "\n",
        "threshold = 2\n",
        "\n",
        "suggested_applicants = generate_suggested_applicants(applicants, job_requirements, threshold)\n",
        "\n",
        "print(\"Suggested Applicants:\")\n",
        "for applicant in suggested_applicants:\n",
        "    print(applicant)\n",
        "\n"
      ]
    },
    {
      "cell_type": "code",
      "source": [],
      "metadata": {
        "id": "7m-arpJ6JCIh"
      },
      "execution_count": null,
      "outputs": []
    }
  ]
}